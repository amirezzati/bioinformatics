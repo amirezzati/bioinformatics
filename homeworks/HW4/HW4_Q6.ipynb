{
  "nbformat": 4,
  "nbformat_minor": 0,
  "metadata": {
    "colab": {
      "provenance": []
    },
    "kernelspec": {
      "name": "python3",
      "display_name": "Python 3"
    },
    "language_info": {
      "name": "python"
    }
  },
  "cells": [
    {
      "cell_type": "markdown",
      "source": [
        "## Install Libraries"
      ],
      "metadata": {
        "id": "xay-hjRKnLsO"
      }
    },
    {
      "cell_type": "markdown",
      "source": [
        "# Task 0: Student Information\n",
        "\n",
        "\n",
        "\n",
        "\n",
        "- Student Name =\n",
        "- Student Number =\n"
      ],
      "metadata": {
        "id": "K3LRemwqjrk1"
      }
    },
    {
      "cell_type": "code",
      "source": [
        "!pip install hidden_markov"
      ],
      "metadata": {
        "id": "G7TptWBCcmti",
        "colab": {
          "base_uri": "https://localhost:8080/"
        },
        "outputId": "b5e9a556-8425-4000-99f0-5f60dd1af82c"
      },
      "execution_count": 2,
      "outputs": [
        {
          "output_type": "stream",
          "name": "stdout",
          "text": [
            "Requirement already satisfied: hidden_markov in /usr/local/lib/python3.10/dist-packages (0.3.2)\n",
            "Requirement already satisfied: numpy in /usr/local/lib/python3.10/dist-packages (from hidden_markov) (1.23.5)\n"
          ]
        }
      ]
    },
    {
      "cell_type": "code",
      "source": [
        "import numpy as np\n",
        "from hidden_markov import hmm"
      ],
      "metadata": {
        "id": "0E50GDimcmrt"
      },
      "execution_count": null,
      "outputs": []
    },
    {
      "cell_type": "markdown",
      "source": [
        "In the human genome cytosine (C) is typically methylated. There is a relatively high change of mutation\n",
        "of this methyl-C into a thymine(T). As a result, in general CpG dinucleotides are rare in the genome than\n",
        "would be expected from the independent probabilities of C and G. [1]"
      ],
      "metadata": {
        "id": "tGA4_CNoeINa"
      }
    },
    {
      "cell_type": "markdown",
      "source": [
        "<img src=\"https://i.ibb.co/9w4vG7t/Screen-Shot-2023-04-15-at-18-12-01.png\" alt=\"Screen-Shot-2023-04-15-at-18-12-01\" width=\"800\" border=\"0\">"
      ],
      "metadata": {
        "id": "0uPn2d8XefV7"
      }
    },
    {
      "cell_type": "markdown",
      "source": [
        "# Task 1: Creating HMM Model (5 Mark)\n",
        "\n",
        "\n",
        "\n",
        "\n",
        "- Define states and observations\n",
        "- Define the probabilities\n",
        "- Create the model"
      ],
      "metadata": {
        "id": "_AaFshr3ey0k"
      }
    },
    {
      "cell_type": "code",
      "source": [
        "# Define Possible Hidden States\n",
        "\n",
        "# Define Possible Observations\n",
        "\n",
        "# Define Start Probabilities as numpy matrix (ith element corresponds to ith element in states)\n",
        "\n",
        "# Define Transition Probabilities as numpy matrix\n",
        "# Dimension -> [length of states, lenght of states]\n",
        "# transition_probability[i,j] means probability of states[i] -> states[j]\n",
        "\n",
        "# Define Emission Probabilities as numpy matrix\n",
        "# Dimension -> [length of states, lenght of observations]\n",
        "# transition_probability[i,j] means probability of states[i] -> observations[j]\n",
        "\n",
        "# Initialize hmm model\n"
      ],
      "metadata": {
        "id": "K1wzHT1Qcmp_"
      },
      "execution_count": null,
      "outputs": []
    },
    {
      "cell_type": "markdown",
      "source": [
        "# Task 2: Forward Algorithm (2 Mark)\n",
        "\n",
        "By using Forward algorithm, calculate the probability of all possible paths which give rise to the\n",
        "sequence **CGCG**."
      ],
      "metadata": {
        "id": "U6evvJ9XeCLW"
      }
    },
    {
      "cell_type": "code",
      "source": [
        "# Use forward algorithm from hidden_markov library\n",
        "\n",
        "\n",
        "\n"
      ],
      "metadata": {
        "id": "aff362LicmoL",
        "colab": {
          "base_uri": "https://localhost:8080/"
        },
        "outputId": "7def2463-c07e-4918-a411-b3298d464eb4"
      },
      "execution_count": null,
      "outputs": [
        {
          "output_type": "stream",
          "name": "stdout",
          "text": [
            "0.007838160412500001\n"
          ]
        }
      ]
    },
    {
      "cell_type": "markdown",
      "source": [
        "# Task 3: Viterbi Algorithm (2 Mark)\n",
        "\n",
        "Using the HMM model shown in Figure 2, predict the most probable path by Viterbi algorithm which\n",
        "give rise to the seqeunce CGCG."
      ],
      "metadata": {
        "id": "zReVSUQEfccb"
      }
    },
    {
      "cell_type": "code",
      "source": [
        "# Use viterbi algorithm from hidden_markov library\n",
        "\n"
      ],
      "metadata": {
        "id": "eXvkAqdPihKZ",
        "colab": {
          "base_uri": "https://localhost:8080/"
        },
        "outputId": "82e929dd-5ef3-439d-d4f7-58b095b7c564"
      },
      "execution_count": null,
      "outputs": [
        {
          "output_type": "stream",
          "name": "stdout",
          "text": [
            "The most probable path for the sequence CGCG is ['CpG islands', 'CpG islands', 'CpG islands', 'CpG islands']\n"
          ]
        }
      ]
    },
    {
      "cell_type": "markdown",
      "source": [
        "# Task 4: Find K Best Possible Sequences (5 Mark)\n",
        "\n",
        "\n"
      ],
      "metadata": {
        "id": "uB__n4Jgfhmo"
      }
    },
    {
      "cell_type": "markdown",
      "source": [
        "- Complete find_k_obs function with following information below.\n",
        "- **Using find_k_obs** function with k = 5, print:\n",
        "  - Sequences\n",
        "  - Likelihoods\n",
        "  - Most probable hidden states by Viterbi algorithm for specific sequence\n",
        "\n",
        "**NOTE:** Take the length of the possible observation sequences as 4."
      ],
      "metadata": {
        "id": "S45N6CBghTJU"
      }
    },
    {
      "cell_type": "code",
      "source": [
        "def find_k_obs(hmm_model, possible_observation, k_seq = 5):\n",
        "  \"\"\"\n",
        "  The function returns the k most likely sequences and their likelihoods\n",
        "\n",
        "  Arguments:\n",
        "  hmm_model: hmm model object to perform forward and viterbi algorithm\n",
        "  possible observations: Unique set of possible observations\n",
        "  k_seq: The number of most likely observation sequences to return\n",
        "\n",
        "  Return:\n",
        "    best_seq (list): Includes k most likely sequences\n",
        "    best_likelihood (list): Includes likelihoods of k most likely sequences\n",
        "\n",
        "  Example:\n",
        "\n",
        "  possible_observations = ['X','Y']\n",
        "  best_obs_seq, best_likelihood = find_k_obs(hmm_model, possible_observation, k_seq = 2)\n",
        "  best_obs_seq: [['X','X'], ['Y','X']]\n",
        "  best_likelihood: [0.09, 0.08]\n",
        "\n",
        "\n",
        "  \"\"\"\n",
        "\n",
        "\n",
        "  return best_seq, best_likelihood"
      ],
      "metadata": {
        "id": "YHzVDoJTcmme"
      },
      "execution_count": null,
      "outputs": []
    },
    {
      "cell_type": "markdown",
      "source": [
        "# Task 5: Print Sequences, Likelihoods, Most Probable Paths (1 Mark)\n",
        "\n",
        "\n"
      ],
      "metadata": {
        "id": "PH1x1Q03i7Jq"
      }
    },
    {
      "cell_type": "code",
      "source": [
        "..."
      ],
      "metadata": {
        "id": "7XlQypApcmkw"
      },
      "execution_count": null,
      "outputs": []
    },
    {
      "cell_type": "markdown",
      "source": [
        "# References\n",
        "\n",
        "\n",
        "\n",
        "[1] Richard Durbin, Sean R Eddy, Anders Krogh, and Graeme Mitchison. Biological sequence analysis:\n",
        "probabilistic models of proteins and nucleic acids. Cambridge university press, 1998."
      ],
      "metadata": {
        "id": "9rNzCxR3ixQq"
      }
    }
  ]
}