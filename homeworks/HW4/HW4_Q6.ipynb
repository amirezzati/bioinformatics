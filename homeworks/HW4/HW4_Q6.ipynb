{
  "cells": [
    {
      "cell_type": "markdown",
      "metadata": {
        "id": "xay-hjRKnLsO"
      },
      "source": [
        "## Install Libraries"
      ]
    },
    {
      "cell_type": "markdown",
      "metadata": {
        "id": "K3LRemwqjrk1"
      },
      "source": [
        "# Task 0: Student Information\n",
        "\n",
        "\n",
        "\n",
        "\n",
        "- Student Name = Amir Mohammad Ezzati\n",
        "- Student Number = 402212269\n"
      ]
    },
    {
      "cell_type": "code",
      "execution_count": 1,
      "metadata": {
        "colab": {
          "base_uri": "https://localhost:8080/"
        },
        "id": "G7TptWBCcmti",
        "outputId": "b5e9a556-8425-4000-99f0-5f60dd1af82c"
      },
      "outputs": [
        {
          "name": "stdout",
          "output_type": "stream",
          "text": [
            "Collecting hidden_markov\n",
            "  Downloading hidden_markov-0.3.2.tar.gz (6.6 kB)\n",
            "  Preparing metadata (setup.py): started\n",
            "  Preparing metadata (setup.py): finished with status 'done'\n",
            "Requirement already satisfied: numpy in c:\\users\\amezz\\appdata\\local\\programs\\python\\python311\\lib\\site-packages (from hidden_markov) (1.24.3)\n",
            "Building wheels for collected packages: hidden_markov\n",
            "  Building wheel for hidden_markov (setup.py): started\n",
            "  Building wheel for hidden_markov (setup.py): finished with status 'done'\n",
            "  Created wheel for hidden_markov: filename=hidden_markov-0.3.2-py3-none-any.whl size=6904 sha256=3fbff04c528865893d7b51e0f7d39b9f3d6ab33ee4299a9253a9c109e27e8d16\n",
            "  Stored in directory: c:\\users\\amezz\\appdata\\local\\pip\\cache\\wheels\\14\\ca\\b4\\2e14681a38a8e8f79141c6d165592ff8529299b2ba48d9cdc2\n",
            "Successfully built hidden_markov\n",
            "Installing collected packages: hidden_markov\n",
            "Successfully installed hidden_markov-0.3.2\n"
          ]
        },
        {
          "name": "stderr",
          "output_type": "stream",
          "text": [
            "\n",
            "[notice] A new release of pip is available: 23.3.1 -> 23.3.2\n",
            "[notice] To update, run: python.exe -m pip install --upgrade pip\n"
          ]
        }
      ],
      "source": [
        "!pip install hidden_markov"
      ]
    },
    {
      "cell_type": "code",
      "execution_count": 18,
      "metadata": {
        "id": "0E50GDimcmrt"
      },
      "outputs": [],
      "source": [
        "import numpy as np\n",
        "from hidden_markov import hmm"
      ]
    },
    {
      "cell_type": "markdown",
      "metadata": {
        "id": "tGA4_CNoeINa"
      },
      "source": [
        "In the human genome cytosine (C) is typically methylated. There is a relatively high change of mutation\n",
        "of this methyl-C into a thymine(T). As a result, in general CpG dinucleotides are rare in the genome than\n",
        "would be expected from the independent probabilities of C and G. [1]"
      ]
    },
    {
      "cell_type": "markdown",
      "metadata": {
        "id": "0uPn2d8XefV7"
      },
      "source": [
        "<img src=\"https://i.ibb.co/9w4vG7t/Screen-Shot-2023-04-15-at-18-12-01.png\" alt=\"Screen-Shot-2023-04-15-at-18-12-01\" width=\"800\" border=\"0\">"
      ]
    },
    {
      "cell_type": "markdown",
      "metadata": {
        "id": "_AaFshr3ey0k"
      },
      "source": [
        "# Task 1: Creating HMM Model (5 Mark)\n",
        "\n",
        "\n",
        "\n",
        "\n",
        "- Define states and observations\n",
        "- Define the probabilities\n",
        "- Create the model"
      ]
    },
    {
      "cell_type": "code",
      "execution_count": 54,
      "metadata": {
        "id": "K1wzHT1Qcmp_"
      },
      "outputs": [],
      "source": [
        "# Define Possible Hidden States\n",
        "states = ['non-island', 'CpG islands']\n",
        "# Define Possible Observations\n",
        "alphabet = ['A', 'C', 'T', 'G']\n",
        "# Define Start Probabilities as numpy matrix (ith element corresponds to ith element in states)\n",
        "p0 = np.matrix([.5, .5])\n",
        "\n",
        "# Define Transition Probabilities as numpy matrix\n",
        "# Dimension -> [length of states, lenght of states]\n",
        "# transition_probability[i,j] means probability of states[i] -> states[j]\n",
        "a = np.matrix([\n",
        "    [.95, .05],\n",
        "    [.1, .9]\n",
        "])\n",
        "\n",
        "# Define Emission Probabilities as numpy matrix\n",
        "# Dimension -> [length of states, lenght of observations]\n",
        "# transition_probability[i,j] means probability of states[i] -> observations[j]\n",
        "e = np.matrix([\n",
        "    [.27, .24, .26, .23],\n",
        "    [.15, .33, .16, .36]\n",
        "])\n",
        "\n",
        "# Initialize hmm model\n",
        "hmm_ = hmm(states, alphabet, p0, a, e)"
      ]
    },
    {
      "cell_type": "markdown",
      "metadata": {
        "id": "U6evvJ9XeCLW"
      },
      "source": [
        "# Task 2: Forward Algorithm (2 Mark)\n",
        "\n",
        "By using Forward algorithm, calculate the probability of all possible paths which give rise to the\n",
        "sequence **CGCG**."
      ]
    },
    {
      "cell_type": "code",
      "execution_count": 97,
      "metadata": {
        "colab": {
          "base_uri": "https://localhost:8080/"
        },
        "id": "aff362LicmoL",
        "outputId": "7def2463-c07e-4918-a411-b3298d464eb4"
      },
      "outputs": [
        {
          "name": "stdout",
          "output_type": "stream",
          "text": [
            "prob =  0.007838160412500001\n"
          ]
        }
      ],
      "source": [
        "# Use forward algorithm from hidden_markov library\n",
        "\n",
        "x = ['C', 'G', 'C', 'G']\n",
        "forward_prob = hmm_.forward_algo(x)\n",
        "print('prob = ', forward_prob)"
      ]
    },
    {
      "cell_type": "markdown",
      "metadata": {
        "id": "zReVSUQEfccb"
      },
      "source": [
        "# Task 3: Viterbi Algorithm (2 Mark)\n",
        "\n",
        "Using the HMM model shown in Figure 2, predict the most probable path by Viterbi algorithm which\n",
        "give rise to the seqeunce CGCG."
      ]
    },
    {
      "cell_type": "code",
      "execution_count": 96,
      "metadata": {
        "colab": {
          "base_uri": "https://localhost:8080/"
        },
        "id": "eXvkAqdPihKZ",
        "outputId": "82e929dd-5ef3-439d-d4f7-58b095b7c564"
      },
      "outputs": [
        {
          "name": "stdout",
          "output_type": "stream",
          "text": [
            "π = ['CpG islands', 'CpG islands', 'CpG islands', 'CpG islands']\n"
          ]
        }
      ],
      "source": [
        "# Use viterbi algorithm from hidden_markov library\n",
        "\n",
        "pi = hmm_.viterbi(x)\n",
        "print('\\u03C0 =', pi)"
      ]
    },
    {
      "cell_type": "markdown",
      "metadata": {
        "id": "uB__n4Jgfhmo"
      },
      "source": [
        "# Task 4: Find K Best Possible Sequences (5 Mark)\n",
        "\n",
        "\n"
      ]
    },
    {
      "cell_type": "markdown",
      "metadata": {
        "id": "S45N6CBghTJU"
      },
      "source": [
        "- Complete find_k_obs function with following information below.\n",
        "- **Using find_k_obs** function with k = 5, print:\n",
        "  - Sequences\n",
        "  - Likelihoods\n",
        "  - Most probable hidden states by Viterbi algorithm for specific sequence\n",
        "\n",
        "**NOTE:** Take the length of the possible observation sequences as 4."
      ]
    },
    {
      "cell_type": "code",
      "execution_count": 92,
      "metadata": {
        "id": "YHzVDoJTcmme"
      },
      "outputs": [],
      "source": [
        "def find_k_obs(hmm_model, possible_observation, k_seq = 5):\n",
        "  \"\"\"\n",
        "  The function returns the k most likely sequences and their likelihoods\n",
        "\n",
        "  Arguments:\n",
        "  hmm_model: hmm model object to perform forward and viterbi algorithm\n",
        "  possible observations: Unique set of possible observations\n",
        "  k_seq: The number of most likely observation sequences to return\n",
        "\n",
        "  Return:\n",
        "    best_seq (list): Includes k most likely sequences\n",
        "    best_likelihood (list): Includes likelihoods of k most likely sequences\n",
        "\n",
        "  Example:\n",
        "\n",
        "  possible_observations = ['X','Y']\n",
        "  best_obs_seq, best_likelihood = find_k_obs(hmm_model, possible_observation, k_seq = 2)\n",
        "  best_obs_seq: [['X','X'], ['Y','X']]\n",
        "  best_likelihood: [0.09, 0.08]\n",
        "\n",
        "\n",
        "  \"\"\"\n",
        "  from itertools import product\n",
        "  from operator import itemgetter\n",
        "\n",
        "\n",
        "  obs_prob = []\n",
        "  for observation in product(possible_observation, repeat=4):\n",
        "    obs_prob.append((observation, hmm_model.forward_algo(observation)))\n",
        "\n",
        "  obs_prob.sort(key=lambda x: x[1], reverse=True)\n",
        "\n",
        "  obs_prob_k = obs_prob[:k_seq]\n",
        "\n",
        "  best_seq = list(map(itemgetter(0), obs_prob_k))\n",
        "  best_likelihood = list(map(itemgetter(1), obs_prob_k))\n",
        "\n",
        "  return best_seq, best_likelihood"
      ]
    },
    {
      "cell_type": "markdown",
      "metadata": {
        "id": "PH1x1Q03i7Jq"
      },
      "source": [
        "# Task 5: Print Sequences, Likelihoods, Most Probable Paths (1 Mark)\n",
        "\n",
        "\n"
      ]
    },
    {
      "cell_type": "code",
      "execution_count": 95,
      "metadata": {
        "id": "7XlQypApcmkw"
      },
      "outputs": [
        {
          "name": "stdout",
          "output_type": "stream",
          "text": [
            "x = GGGG : x_prob = 0.0088132 ** viterbi π = ['CpG islands', 'CpG islands', 'CpG islands', 'CpG islands']\n",
            "x = GGGC : x_prob = 0.0083531 ** viterbi π = ['CpG islands', 'CpG islands', 'CpG islands', 'CpG islands']\n",
            "x = GGCG : x_prob = 0.0083122 ** viterbi π = ['CpG islands', 'CpG islands', 'CpG islands', 'CpG islands']\n",
            "x = CGGG : x_prob = 0.0082943 ** viterbi π = ['CpG islands', 'CpG islands', 'CpG islands', 'CpG islands']\n",
            "x = GCGG : x_prob = 0.0082938 ** viterbi π = ['CpG islands', 'CpG islands', 'CpG islands', 'CpG islands']\n"
          ]
        }
      ],
      "source": [
        "...\n",
        "best_seq, best_likelihood = find_k_obs(hmm_, alphabet, k_seq = 5)\n",
        "\n",
        "for i in range(len(best_seq)):\n",
        "    print('x =', ''.join(best_seq[i]), ': ', end='')\n",
        "    print('x_prob =', '%.7f' % best_likelihood[i],  end=' ** ')\n",
        "    print('viterbi \\u03C0 =', hmm_.viterbi(best_seq[i]), end='\\n')"
      ]
    },
    {
      "cell_type": "markdown",
      "metadata": {
        "id": "9rNzCxR3ixQq"
      },
      "source": [
        "# References\n",
        "\n",
        "\n",
        "\n",
        "[1] Richard Durbin, Sean R Eddy, Anders Krogh, and Graeme Mitchison. Biological sequence analysis:\n",
        "probabilistic models of proteins and nucleic acids. Cambridge university press, 1998."
      ]
    }
  ],
  "metadata": {
    "colab": {
      "provenance": []
    },
    "kernelspec": {
      "display_name": "Python 3",
      "name": "python3"
    },
    "language_info": {
      "codemirror_mode": {
        "name": "ipython",
        "version": 3
      },
      "file_extension": ".py",
      "mimetype": "text/x-python",
      "name": "python",
      "nbconvert_exporter": "python",
      "pygments_lexer": "ipython3",
      "version": "3.11.3"
    }
  },
  "nbformat": 4,
  "nbformat_minor": 0
}
