{
 "cells": [
  {
   "attachments": {},
   "cell_type": "markdown",
   "metadata": {},
   "source": [
    "### introduction to Bioinformatics\n",
    "### homework 2\n",
    "### Name :\n",
    "### Student Id :"
   ]
  },
  {
   "cell_type": "code",
   "execution_count": null,
   "metadata": {},
   "outputs": [],
   "source": [
    "import numpy as np\n",
    "import subprocess\n",
    "import random\n"
   ]
  },
  {
   "cell_type": "code",
   "execution_count": null,
   "metadata": {},
   "outputs": [],
   "source": [
    "\n",
    "# FTP URL of the FASTQ file you want to download\n",
    "ftp_url = 'ftp://ftp.sra.ebi.ac.uk/vol1/fastq/SRR390/SRR390728/SRR390728_1.fastq.gz'\n",
    "\n",
    "# Destination path where the downloaded file will be saved\n",
    "destination_path = 'SRR390728_1.fastq.gz'\n",
    "\n",
    "# Download data using wget\n",
    "try:\n",
    "    subprocess.run(['wget', ftp_url, '-O', destination_path], check=True)\n",
    "    print(f\"Downloaded data for SRR390728_1.fastq.gz\")\n",
    "except subprocess.CalledProcessError as e:\n",
    "    print(f\"Error: {e}\")"
   ]
  },
  {
   "cell_type": "code",
   "execution_count": null,
   "metadata": {},
   "outputs": [],
   "source": [
    "#Now You have to read from SRR390728_1.fastq.gz file and save all of this file sequence in concatenated_sequence\n",
    "#hint : use gzip library and read about fastq files and how they save genomes sequence\n",
    "\n",
    "concatenated_sequences = #TODO\n"
   ]
  },
  {
   "cell_type": "code",
   "execution_count": null,
   "metadata": {},
   "outputs": [],
   "source": [
    "#because genome is too long we just get first 35000 of genomes sequence and work with this genome after it\n",
    "#so only run this cell\n",
    "refrence_genome = concatenated_sequences[0:35000]"
   ]
  },
  {
   "attachments": {},
   "cell_type": "markdown",
   "metadata": {},
   "source": [
    "### just run the cell to create short reads from genome"
   ]
  },
  {
   "cell_type": "code",
   "execution_count": null,
   "metadata": {},
   "outputs": [],
   "source": [
    "\n",
    "# Minimum length of each short read\n",
    "min_read_length = 90\n",
    "\n",
    "# Function to generate random short reads\n",
    "def generate_random_short_reads(sequence, min_length):\n",
    "    short_reads = []\n",
    "    remaining_sequence = sequence\n",
    "\n",
    "    while len(remaining_sequence) >= min_length:\n",
    "        read_length = random.randint(min(min_length, len(remaining_sequence)), min(len(remaining_sequence), 700))\n",
    "        short_read = remaining_sequence[:read_length]\n",
    "        short_reads.append(short_read)\n",
    "        remaining_sequence = remaining_sequence[read_length:]\n",
    "\n",
    "    return short_reads\n",
    "\n",
    "def mutate(input):\n",
    "    valid_inputs = ['A', 'C', 'T', 'G']\n",
    "    num = random.randint(1, 1000)\n",
    "    valid_inputs = [element for element in valid_inputs if element not in [input]]\n",
    "    \n",
    "    if num < 40 :\n",
    "        shuffled_indices = list(range(len(valid_inputs)))\n",
    "        random.shuffle(shuffled_indices)\n",
    "        return valid_inputs[shuffled_indices[0]]\n",
    "    return input\n",
    "        \n",
    "\n",
    "# Generate random short reads\n",
    "copy_num = 4\n",
    "short_reads = generate_random_short_reads(refrence_genome, min_read_length)\n",
    "for i in range (copy_num):\n",
    "    short_reads = short_reads + generate_random_short_reads(refrence_genome, min_read_length)\n",
    "\n",
    "\n",
    "shuffled_indices = list(range(len(short_reads)))\n",
    "random.shuffle(shuffled_indices)\n",
    "\n",
    "# Create a new list to store shuffled short reads\n",
    "short_reads = [short_reads[i] for i in shuffled_indices]\n",
    "\n",
    "#mutations\n",
    "for i in range (len(short_reads)):\n",
    "    for j in range (len(short_reads[i])):\n",
    "        mutate_char = mutate(short_reads[i][j])\n",
    "        if mutate_char != short_reads[i][j]:\n",
    "            if j != len(short_reads[i])-1:\n",
    "                short_reads[i] = short_reads[i][:j]+mutate_char+short_reads[i][j+1:]\n",
    "            else :\n",
    "                short_reads[i] = short_reads[i][:j]+mutate_char\n",
    "\n",
    "\n"
   ]
  },
  {
   "attachments": {},
   "cell_type": "markdown",
   "metadata": {},
   "source": [
    "### just run the code below (it's just for calculating local alignment score with refrence genome)"
   ]
  },
  {
   "cell_type": "code",
   "execution_count": null,
   "metadata": {},
   "outputs": [],
   "source": [
    "\n",
    "def smith_waterman(sequence1, sequence2, match=2, mismatch=-1, gap_open=-2, gap_extend=-1):\n",
    "    len_seq1, len_seq2 = len(sequence1), len(sequence2)\n",
    "    score_matrix = np.zeros((len_seq1 + 1, len_seq2 + 1), dtype=int)\n",
    "\n",
    "    for i in range(1, len_seq1 + 1):\n",
    "        for j in range(1, len_seq2 + 1):\n",
    "            match_mismatch_score = match if sequence1[i - 1] == sequence2[j - 1] else mismatch\n",
    "            diagonal_score = score_matrix[i - 1][j - 1] + match_mismatch_score\n",
    "            gap_up_score = score_matrix[i - 1][j] + gap_extend if score_matrix[i - 1][j] > 0 else gap_open\n",
    "            gap_left_score = score_matrix[i][j - 1] + gap_extend if score_matrix[i][j - 1] > 0 else gap_open\n",
    "\n",
    "            score_matrix[i][j] = max(0, diagonal_score, gap_up_score, gap_left_score)\n",
    "\n",
    "    # Find the maximum score in the score matrix\n",
    "    max_score = np.max(score_matrix)\n",
    "\n",
    "    return max_score\n"
   ]
  },
  {
   "cell_type": "code",
   "execution_count": null,
   "metadata": {},
   "outputs": [],
   "source": [
    "# Print 10 samples of short reads with length\n",
    "#TODO"
   ]
  },
  {
   "cell_type": "code",
   "execution_count": null,
   "metadata": {},
   "outputs": [],
   "source": [
    "\n",
    "# Function to perform greedy overlap-based assembly\n",
    "def heuristic_assemble(short_reads):\n",
    "    #TODO\n",
    "\n",
    "# Perform greedy overlap-based assembly\n",
    "assembled_sequence = heuristic_assemble(short_reads)\n",
    "\n"
   ]
  },
  {
   "attachments": {},
   "cell_type": "markdown",
   "metadata": {},
   "source": [
    "### Your alignment score should be at least 1250"
   ]
  },
  {
   "cell_type": "code",
   "execution_count": null,
   "metadata": {},
   "outputs": [],
   "source": [
    "# Calculate the local alignment score using Smith-Waterman algorithm\n",
    "alignment_score = smith_waterman(refrence_genome, assembled_sequence)\n",
    "\n",
    "# Print the local alignment score\n",
    "print(\"Local Alignment Score:\", alignment_score)"
   ]
  },
  {
   "cell_type": "code",
   "execution_count": null,
   "metadata": {},
   "outputs": [],
   "source": [
    "\n",
    "\n",
    "def perform_de_novo_assembly(short_reads, k_mer_size = ):\n",
    "    #TODO\n",
    "\n",
    "de_brujin_assembled_sequence = perform_de_novo_assembly(short_reads, k=25)\n",
    "\n",
    "\n",
    "\n",
    "\n"
   ]
  },
  {
   "attachments": {},
   "cell_type": "markdown",
   "metadata": {},
   "source": [
    "### Your alignment score should be at least 3800"
   ]
  },
  {
   "cell_type": "code",
   "execution_count": null,
   "metadata": {},
   "outputs": [],
   "source": [
    "alignment_score = smith_waterman(refrence_genome, de_brujin_assembled_sequence)\n",
    "\n",
    "# Print the local alignment score\n",
    "print(\"Local Alignment Score:\", alignment_score)\n"
   ]
  }
 ],
 "metadata": {
  "kernelspec": {
   "display_name": "Python 3",
   "language": "python",
   "name": "python3"
  },
  "language_info": {
   "codemirror_mode": {
    "name": "ipython",
    "version": 3
   },
   "file_extension": ".py",
   "mimetype": "text/x-python",
   "name": "python",
   "nbconvert_exporter": "python",
   "pygments_lexer": "ipython3",
   "version": "3.10.12"
  },
  "orig_nbformat": 4,
  "vscode": {
   "interpreter": {
    "hash": "916dbcbb3f70747c44a77c7bcd40155683ae19c65e1c03b4aa3499c5328201f1"
   }
  }
 },
 "nbformat": 4,
 "nbformat_minor": 2
}
